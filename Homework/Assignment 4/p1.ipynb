{
 "cells": [
  {
   "cell_type": "code",
   "execution_count": 1,
   "id": "243a4083",
   "metadata": {},
   "outputs": [],
   "source": [
    "import numpy as np\n",
    "import math\n",
    "import cv2"
   ]
  },
  {
   "cell_type": "markdown",
   "id": "60025954",
   "metadata": {},
   "source": [
    "### Helper functions (defined before main code)"
   ]
  },
  {
   "cell_type": "code",
   "execution_count": 2,
   "id": "4bc2965e",
   "metadata": {},
   "outputs": [],
   "source": [
    "# apply gaussian smoothing to the image\n",
    "def gaussian_smoothing(img, kernel_size, sigma):\n",
    "    kernel_size = int(kernel_size)\n",
    "    sigma = float(sigma)\n",
    "    \n",
    "    # generate kernel based on kernel size\n",
    "    kernel = np.zeros((kernel_size, kernel_size))\n",
    "    \n",
    "    mid = (kernel_size - 1) // 2\n",
    "    \n",
    "    y, x = np.ogrid[float(-mid):float(mid+1),float(-mid):float(mid+1)]\n",
    "    kernel_sum = 0\n",
    "    \n",
    "    # loop through the kernel\n",
    "    for i in range(kernel_size):\n",
    "        for j in range(kernel_size):\n",
    "            # gaussian formula\n",
    "            e = math.exp((-((x[0][j]**2)+(y[i][0]**2))/(2*(sigma**2))))\n",
    "            kernel[i][j] = e*(1/(2*math.pi*(sigma**2)))\n",
    "            kernel_sum = kernel_sum + kernel[i][j]\n",
    "            \n",
    "    # loop through the kernel and average it out\n",
    "    for i in range(kernel_size):\n",
    "        for j in range(kernel_size):\n",
    "            kernel[i][j] = kernel[i][j]/kernel_sum\n",
    "    \n",
    "    # resize the image with padding and apply convolution\n",
    "    # result will be the smoothed image\n",
    "    img_pad = resize_with_pad(img, kernel_size)\n",
    "    img_out = convolution(img_pad, kernel)\n",
    "    \n",
    "    return img_out"
   ]
  },
  {
   "cell_type": "code",
   "execution_count": 3,
   "id": "077bd915",
   "metadata": {},
   "outputs": [],
   "source": [
    "# convolution function\n",
    "# used to convolve images according to the kernel specified\n",
    "def convolution(img, kernel):\n",
    "    filter_size = int(math.sqrt(kernel.size))\n",
    "    \n",
    "    # get image dimensions\n",
    "    img_row, img_col = img.shape\n",
    "    \n",
    "    mid = (filter_size - 1) // 2\n",
    "    \n",
    "    r = img_row - 2*mid\n",
    "    c = img_col - 2*mid\n",
    "    \n",
    "    # create empty numpy array for output\n",
    "    img_out = np.zeros((r, c))\n",
    "    \n",
    "    # loop through the image and fill convolved values\n",
    "    for i in range(r):\n",
    "        for j in range(c):\n",
    "            for k in range(filter_size):\n",
    "                for l in range(filter_size):\n",
    "                    img_out[i][j] = img_out[i][j] + (kernel[k][l] * img[i+k][j+l])\n",
    "            if(img_out[i][j] < 0):\n",
    "                img_out[i][j] = 0\n",
    "            else:\n",
    "                img_out[i][j] = int(img_out[i][j])\n",
    "                \n",
    "    return img_out"
   ]
  },
  {
   "cell_type": "code",
   "execution_count": 4,
   "id": "77732c20",
   "metadata": {},
   "outputs": [],
   "source": [
    "# function to resize image by padding on sides\n",
    "def resize_with_pad(img, filter_size):\n",
    "    # get image dimensions\n",
    "    img_row, img_col = img.shape\n",
    "    \n",
    "    mid = (filter_size - 1) // 2\n",
    "    \n",
    "    # create empty output image\n",
    "    img_out = np.zeros((img_row+2*mid, img_col+2*mid))\n",
    "    \n",
    "    # padding accross all sides\n",
    "    img_out[mid:img_row+mid, mid:img_col+mid] = img\n",
    "    img_out[:mid, :] = img_out[mid, :]\n",
    "    img_out[-mid:, :] = img_out[-mid-1, :]\n",
    "    img_out[:, :mid] = img_out[:, mid].reshape(-1, 1)\n",
    "    img_out[:, -mid:] = img_out[:, -mid-1].reshape(-1, 1)\n",
    "    \n",
    "    return img_out"
   ]
  },
  {
   "cell_type": "code",
   "execution_count": 5,
   "id": "761a1ace",
   "metadata": {},
   "outputs": [],
   "source": [
    "# function to calculate Ix\n",
    "# gradient in x using sobel filter\n",
    "def gradient_in_x(img):\n",
    "    kernel = np.array([[-1,0,+1], [-1,0,+1], [-1,0,+1]])\n",
    "    \n",
    "    # resize with padding and apply convolution\n",
    "    img_pad = resize_with_pad(img, 3)\n",
    "    img_out = convolution(img_pad, kernel)\n",
    "    \n",
    "    return img_out"
   ]
  },
  {
   "cell_type": "code",
   "execution_count": 6,
   "id": "d9d7a93c",
   "metadata": {},
   "outputs": [],
   "source": [
    "# function to calculate Iy\n",
    "# same as above but different filter\n",
    "def gradient_in_y(img):\n",
    "    kernel = np.array([[-1,-1,-1], [0,0,0], [+1,+1,+1]])\n",
    "    \n",
    "    # resize with padding and apply convolution\n",
    "    img_pad = resize_with_pad(img, 3)\n",
    "    img_out = convolution(img_pad, kernel)\n",
    "    \n",
    "    return img_out"
   ]
  },
  {
   "cell_type": "code",
   "execution_count": 7,
   "id": "efd72f84",
   "metadata": {},
   "outputs": [],
   "source": [
    "# function to calculate the second moment matrix, M\n",
    "def get_M(img):\n",
    "    # get the image as an array\n",
    "    img_arr = np.asarray(img)\n",
    "    \n",
    "    # calculate Ix and Iy\n",
    "    img_x = gradient_in_x(img_arr)\n",
    "    img_y = gradient_in_y(img_arr)\n",
    "    \n",
    "    # image dimensions\n",
    "    r, c = img_x.shape\n",
    "    \n",
    "    # arrays for Ixx, Iyy, and Ixy\n",
    "    img_xx = np.zeros((r, c))\n",
    "    img_yy = np.zeros((r, c))\n",
    "    img_xy = np.zeros((r, c))\n",
    "    \n",
    "    # loop through image dimensions and fill the values for Ixx, Iyy, and Ixy\n",
    "    for i in range(r):\n",
    "        for j in range(c):\n",
    "            img_xx[i][j] = img_x[i][j]*img_x[i][j]\n",
    "            img_yy[i][j] = img_y[i][j]*img_y[i][j]\n",
    "            img_xy[i][j] = img_x[i][j]*img_y[i][j]\n",
    "    \n",
    "    # get the second order derivatives by gaussian smoothing\n",
    "    Ixx = gaussian_smoothing(img_xx, 5, 1)\n",
    "    Iyy = gaussian_smoothing(img_yy, 5, 1)\n",
    "    Ixy = gaussian_smoothing(img_xy, 5, 1)\n",
    "    \n",
    "    # second moment matrix\n",
    "    M = [[[] for i in range(c)] for j in range(r)]\n",
    "    \n",
    "    # loop through M and fill in the above calculated values\n",
    "    for i in range(r):\n",
    "        for j in range(c):\n",
    "            M[i][j] = [Ixx[i][j], Ixy[i][j], Iyy[i][j]]\n",
    "            \n",
    "    return M"
   ]
  },
  {
   "cell_type": "code",
   "execution_count": 8,
   "id": "0a283a0d",
   "metadata": {},
   "outputs": [],
   "source": [
    "# function to get the corner response function, R\n",
    "def get_R(img, M, k, threshold):\n",
    "    # get image as an array\n",
    "    img_arr = np.asarray(img)\n",
    "    \n",
    "    # image dimensions\n",
    "    r, c = img_arr.shape\n",
    "    \n",
    "    # corner response matrix\n",
    "    R = np.zeros((r, c))\n",
    "    \n",
    "    # variables for corners and number of corners\n",
    "    corners = []\n",
    "    num_corners = 0\n",
    "    \n",
    "    # loop through R\n",
    "    for i in range(r):\n",
    "        for j in range(c):\n",
    "            R[i][j] = ((M[i][j][0]*M[i][j][2]) - (M[i][j][1]**2)) - (k*((M[i][j][0]+M[i][j][2])**2))\n",
    "            \n",
    "    # resize R with padding and computer the new dimensions\n",
    "    R = resize_with_pad(R, 3)\n",
    "    R_row, R_col = R.shape\n",
    "    \n",
    "    # non-max suppression\n",
    "    # discard corners with value greater than threshold\n",
    "    for i in range(1, R_row-1):\n",
    "        for j in range(1, R_col-1):\n",
    "            if(R[i][j] > threshold):\n",
    "                if(R[i][j] == max(R[i-1][j-1], R[i-1][j], R[i-1][j+1], R[i][j-1], R[i][j], R[i][j+1], R[i+1][j-1], R[i+1][j], R[i+1][j+1])):\n",
    "                    corners.append([i-1, j-1, R[i-1][j-1]])\n",
    "                    num_corners = num_corners + 1\n",
    "                    \n",
    "    return corners"
   ]
  },
  {
   "cell_type": "code",
   "execution_count": 9,
   "id": "61433a4b",
   "metadata": {},
   "outputs": [],
   "source": [
    "# read images\n",
    "rgb1 = cv2.imread(\"problem1/rgb1.png\", cv2.IMREAD_GRAYSCALE)\n",
    "rgb2 = cv2.imread(\"problem1/rgb2.png\", cv2.IMREAD_GRAYSCALE)\n",
    "rgb3 = cv2.imread(\"problem1/rgb3.png\", cv2.IMREAD_GRAYSCALE)\n",
    "\n",
    "# read depth maps\n",
    "depth1 = cv2.imread(\"problem1/depth1.png\", cv2.IMREAD_GRAYSCALE)\n",
    "depth2 = cv2.imread(\"problem1/depth2.png\", cv2.IMREAD_GRAYSCALE)\n",
    "depth3 = cv2.imread(\"problem1/depth3.png\", cv2.IMREAD_GRAYSCALE)"
   ]
  },
  {
   "cell_type": "markdown",
   "id": "c8a3a407",
   "metadata": {},
   "source": [
    "### Part 1"
   ]
  },
  {
   "cell_type": "code",
   "execution_count": 10,
   "id": "aaaedbe5",
   "metadata": {},
   "outputs": [],
   "source": [
    "# Second moment matrix with corner response\n",
    "rgb1_M = get_M(rgb1)\n",
    "rgb1_corners = get_R(rgb1, rgb1_M, 0.05, 12000000)\n",
    "\n",
    "rgb2_M = get_M(rgb2)\n",
    "rgb2_corners = get_R(rgb2, rgb2_M, 0.05, 12000000)\n",
    "\n",
    "rgb3_M = get_M(rgb3)\n",
    "rgb3_corners = get_R(rgb3, rgb3_M, 0.05, 12000000)"
   ]
  },
  {
   "cell_type": "code",
   "execution_count": 11,
   "id": "6cc83a0d",
   "metadata": {},
   "outputs": [
    {
     "name": "stdout",
     "output_type": "stream",
     "text": [
      "172\n",
      "301\n",
      "247\n"
     ]
    }
   ],
   "source": [
    "print(len(rgb1_corners))\n",
    "print(len(rgb2_corners))\n",
    "print(len(rgb3_corners))"
   ]
  },
  {
   "cell_type": "code",
   "execution_count": 12,
   "id": "67735212",
   "metadata": {},
   "outputs": [],
   "source": [
    "# get the top 100 corners with strongest response\n",
    "rgb1_corners_top100 = sorted(rgb1_corners, reverse=True, key=lambda x: x[2])[:100]\n",
    "rgb2_corners_top100 = sorted(rgb2_corners, reverse=True, key=lambda x: x[2])[:100]\n",
    "rgb3_corners_top100 = sorted(rgb3_corners, reverse=True, key=lambda x: x[2])[:100]"
   ]
  },
  {
   "cell_type": "markdown",
   "id": "449f0b08",
   "metadata": {},
   "source": [
    "### Part 2"
   ]
  },
  {
   "cell_type": "code",
   "execution_count": 13,
   "id": "88241629",
   "metadata": {},
   "outputs": [],
   "source": [
    "K_inv = np.linalg.inv(np.array([[525.0, 0, 319.5], [0, 525.0, 239.5], [0, 0, 1]]))"
   ]
  },
  {
   "cell_type": "code",
   "execution_count": 14,
   "id": "378ee1d7",
   "metadata": {},
   "outputs": [],
   "source": [
    "# function to convert the generated corners into 3D points\n",
    "def points_to_3d(corners, depth_map):\n",
    "    pts_3d = []\n",
    "    \n",
    "    # corner has (x, y, corner response value)\n",
    "    for corner in corners:\n",
    "        x, y, _ = corner\n",
    "        \n",
    "        depth = depth_map[x,y]\n",
    "        \n",
    "        # discard points with zero depth\n",
    "        if depth == 0:\n",
    "            continue\n",
    "        \n",
    "        # convert the 2d points into homogeneous coordinates\n",
    "        homogeneous = np.array([x, y, 1])\n",
    "        \n",
    "        # normalize the homogeneous coordinates\n",
    "        normalized = K_inv.dot(homogeneous)\n",
    "        \n",
    "        # convert to world coordinate\n",
    "        world = depth * normalized\n",
    "        \n",
    "        # scale the 3D point and add to the list\n",
    "        point_3d = world / 5000\n",
    "        pts_3d.append(point_3d)\n",
    "        \n",
    "    return pts_3d"
   ]
  },
  {
   "cell_type": "code",
   "execution_count": 15,
   "id": "093a7920",
   "metadata": {},
   "outputs": [],
   "source": [
    "rgb1_3d_pts = points_to_3d(rgb1_corners_top100, depth1)\n",
    "rgb2_3d_pts = points_to_3d(rgb2_corners_top100, depth2)\n",
    "rgb3_3d_pts = points_to_3d(rgb3_corners_top100, depth3)"
   ]
  },
  {
   "cell_type": "markdown",
   "id": "fe8ec8e7",
   "metadata": {},
   "source": [
    "### Part 3"
   ]
  },
  {
   "cell_type": "code",
   "execution_count": 16,
   "id": "060287ad",
   "metadata": {},
   "outputs": [],
   "source": [
    "# function to calculate the rank transform of image\n",
    "# similar to the function I used in Assignment 2\n",
    "def rank_transform(image):\n",
    "    # specify window size\n",
    "    window = 5\n",
    "    \n",
    "    mid = int((window - 1) / 2)\n",
    "    \n",
    "    # convert image to array\n",
    "    arr = np.asarray(image)\n",
    "    \n",
    "    # get width and height of image\n",
    "    width = arr.shape[0]\n",
    "    height = arr.shape[1]\n",
    "    \n",
    "    # create empty array for output\n",
    "    arr_out = np.zeros((width, height))\n",
    "    \n",
    "    # loop through entire image\n",
    "    for i in range(width):\n",
    "        for j in range(height):\n",
    "            # loop through window\n",
    "            for u in range(i-mid, i+mid+1):\n",
    "                for v in range(j-mid, j+mid+1):\n",
    "                    # condition to check pixel values\n",
    "                    if (0<=u<width and 0<=v<height):\n",
    "                        if (arr[u][v] < arr[i][j]):\n",
    "                            arr_out[i][j] += 1\n",
    "                            \n",
    "    arr_out = arr_out.astype(np.uint16)\n",
    "    #print(arr_out)\n",
    "    \n",
    "    return arr_out"
   ]
  },
  {
   "cell_type": "code",
   "execution_count": 17,
   "id": "fed3d198",
   "metadata": {},
   "outputs": [],
   "source": [
    "# function to calculate SAD between the rank transformed images and corners\n",
    "def sum_absdiff(rt1, rt2, corners1, corners2):\n",
    "    # take rank transformed images as arrays\n",
    "    rt1 = np.asarray(rt1)\n",
    "    rt2 = np.asarray(rt2)\n",
    "    \n",
    "    # get dimensions\n",
    "    r, c = rt1.shape\n",
    "    \n",
    "    # create distances array to store the relative distance\n",
    "    distances = []\n",
    "    \n",
    "    # loop through the corners\n",
    "    for cnr2 in corners2:\n",
    "        for cnr1 in corners1:\n",
    "            s = 0\n",
    "            # check within 11x11 neighborhood\n",
    "            for i in range(-5, 6):\n",
    "                li = i + cnr2[0]\n",
    "                ri = i + cnr1[0]\n",
    "                for j in range(-5, 6):\n",
    "                    lj = j + cnr2[1]\n",
    "                    rj = j + cnr1[1]\n",
    "                    if(0<=li<r and 0<=lj<c and 0<=ri<r and 0<=rj<c):\n",
    "                        s += abs(int(rt2[li][lj]) - int(rt1[ri][rj]))\n",
    "                        \n",
    "            # store the points according to the distances\n",
    "            distances.append([s, [cnr2[0], cnr2[1]], [cnr1[0], cnr1[1]]])\n",
    "    \n",
    "    # sort the distances in ascending order\n",
    "    distances.sort()\n",
    "    \n",
    "    return distances"
   ]
  },
  {
   "cell_type": "code",
   "execution_count": 18,
   "id": "0c3e900e",
   "metadata": {},
   "outputs": [],
   "source": [
    "# get rank transform\n",
    "rgb1_rt = rank_transform(rgb1)\n",
    "rgb2_rt = rank_transform(rgb2)\n",
    "rgb3_rt = rank_transform(rgb3)"
   ]
  },
  {
   "cell_type": "code",
   "execution_count": 19,
   "id": "cdd2bfeb",
   "metadata": {},
   "outputs": [
    {
     "data": {
      "text/plain": [
       "array([[ 2,  8, 13, ...,  2,  1,  0],\n",
       "       [ 2,  9, 17, ...,  9,  2,  2],\n",
       "       [ 2,  8, 24, ..., 12,  9, 13],\n",
       "       ...,\n",
       "       [ 3,  5, 14, ..., 10,  4,  1],\n",
       "       [10,  6, 17, ...,  7,  7,  2],\n",
       "       [ 2,  3,  5, ...,  3,  3,  5]], dtype=uint16)"
      ]
     },
     "execution_count": 19,
     "metadata": {},
     "output_type": "execute_result"
    }
   ],
   "source": [
    "rgb1_rt"
   ]
  },
  {
   "cell_type": "code",
   "execution_count": 20,
   "id": "f25c5f6b",
   "metadata": {},
   "outputs": [],
   "source": [
    "# perform corner matching using SAD\n",
    "cm_21 = sum_absdiff(rgb2_rt, rgb1_rt, rgb2_corners_top100, rgb1_corners_top100)\n",
    "cm_23 = sum_absdiff(rgb2_rt, rgb3_rt, rgb2_corners_top100, rgb3_corners_top100)"
   ]
  },
  {
   "cell_type": "code",
   "execution_count": 21,
   "id": "c1cf32fe",
   "metadata": {},
   "outputs": [],
   "source": [
    "# get the top 10 3D points from the corner matching\n",
    "# similar to points_to_3d() function\n",
    "def points_to_3d_top10(corners, depth_map):\n",
    "    pts_3d = []\n",
    "    \n",
    "    for corner in corners:\n",
    "        x, y = corner\n",
    "        \n",
    "        depth = depth_map[x,y]\n",
    "        \n",
    "        # discard point with zero depth\n",
    "        if depth == 0:\n",
    "            #print(x,y)\n",
    "            continue\n",
    "        \n",
    "        # convert 2d points to homogeneous coordinates\n",
    "        homogeneous = np.array([x, y, 1])\n",
    "        \n",
    "        # normalize them\n",
    "        normalized = K_inv.dot(homogeneous)\n",
    "        \n",
    "        # convert to world coordinate\n",
    "        world = depth * normalized\n",
    "        \n",
    "        # and scale the points\n",
    "        point_3d = world / 5000\n",
    "        pts_3d.append(point_3d)\n",
    "        \n",
    "    return np.array(pts_3d[:10])"
   ]
  },
  {
   "cell_type": "code",
   "execution_count": 22,
   "id": "583168f9",
   "metadata": {},
   "outputs": [],
   "source": [
    "corners_21_rgb1 = []\n",
    "corners_21_rgb2 = []\n",
    "corners_23_rgb3 = []\n",
    "corners_23_rgb2 = []\n",
    "\n",
    "for i in range(len(cm_21)):\n",
    "    corners_21_rgb1.append(cm_21[i][1])\n",
    "    corners_21_rgb2.append(cm_21[i][2])\n",
    "\n",
    "for i in range(len(cm_23)):\n",
    "    corners_23_rgb3.append(cm_23[i][1])\n",
    "    corners_23_rgb2.append(cm_23[i][2])"
   ]
  },
  {
   "cell_type": "code",
   "execution_count": 23,
   "id": "4e937670",
   "metadata": {},
   "outputs": [],
   "source": [
    "top10_21_rgb1 = points_to_3d_top10(corners_21_rgb1, depth1)\n",
    "top10_21_rgb2 = points_to_3d_top10(corners_21_rgb2, depth2)\n",
    "top10_23_rgb3 = points_to_3d_top10(corners_23_rgb3, depth3)\n",
    "top10_23_rgb2 = points_to_3d_top10(corners_23_rgb2, depth2)"
   ]
  },
  {
   "cell_type": "markdown",
   "id": "18eba8a2",
   "metadata": {},
   "source": [
    "### Part 4"
   ]
  },
  {
   "cell_type": "code",
   "execution_count": 24,
   "id": "9f2d86c3",
   "metadata": {},
   "outputs": [],
   "source": [
    "# RANSAC to get rigid transformations for image 1 and image 3\n",
    "def RANSAC_3D_points(P1, P2, max_iterations=1000, threshold=0.1):\n",
    "    # get number of points\n",
    "    n = P2.shape[0]\n",
    "    inliers = []\n",
    "    \n",
    "    # variables for best rotation and translation matrix\n",
    "    best_R = None\n",
    "    best_t = None\n",
    "    best_num_inliers = 0\n",
    "    \n",
    "    # loop through number of iteratiosn\n",
    "    for i in range(max_iterations):\n",
    "        \n",
    "        # randomly select 3 points and assign as the formula given in pdf\n",
    "        idx = np.random.choice(n, 3, replace=False)\n",
    "        P1_3 = P1[idx, :]\n",
    "        P2_3 = P2[idx, :]\n",
    "        \n",
    "        # compute v1 and v2 vectors\n",
    "        v1_1 = P1_3[0] - P1_3[1]\n",
    "        v1_2 = P1_3[1] - P1_3[2]\n",
    "        v2_1 = P2_3[0] - P2_3[1]\n",
    "        v2_2 = P2_3[1] - P2_3[2]\n",
    "        \n",
    "        # estimate R and t from the v1 and v2 vectors\n",
    "        # formula used as in pdf\n",
    "        R1 = np.column_stack((v2_1, np.cross(v2_1, v2_2), v2_2))\n",
    "        R1_pinv = np.linalg.pinv(R1)\n",
    "        t1 = P2_3[0] - np.dot(R1, P1_3[0])\n",
    "        R1_, S, V = np.linalg.svd(R1_pinv @ np.column_stack((v1_1, np.cross(v1_1, v1_2), v1_2)))\n",
    "        R1 = R1_ @ V.T\n",
    "        t1 = P2_3[0] - R1 @ P1_3[0]\n",
    "        \n",
    "        # calculate error for each correspondence\n",
    "        P1_est = P1 @ R1.T + t1.T\n",
    "        errors = np.linalg.norm(P2 - P1_est, axis=1)\n",
    "        \n",
    "        # select inliers\n",
    "        inliers_idx = np.where(errors < threshold)[0]\n",
    "        num_inliers = len(inliers_idx)\n",
    "        \n",
    "        # update best R, t and inliers if necessary\n",
    "        if num_inliers > best_num_inliers:\n",
    "            best_R = R1\n",
    "            best_t = t1\n",
    "            best_num_inliers = num_inliers\n",
    "            inliers = inliers_idx\n",
    "    \n",
    "    return best_R, best_t"
   ]
  },
  {
   "cell_type": "code",
   "execution_count": 25,
   "id": "4ca244be",
   "metadata": {},
   "outputs": [],
   "source": [
    "# get (R1, t1) and (R3, t3)\n",
    "R1, t1 = RANSAC_3D_points(top10_21_rgb1, top10_21_rgb2)\n",
    "R3, t3 = RANSAC_3D_points(top10_23_rgb3, top10_23_rgb2)"
   ]
  },
  {
   "cell_type": "code",
   "execution_count": 26,
   "id": "831e84d8",
   "metadata": {},
   "outputs": [
    {
     "data": {
      "text/plain": [
       "array([[-0.5       ,  0.70710678, -0.5       ],\n",
       "       [-0.70710678,  0.        ,  0.70710678],\n",
       "       [ 0.5       ,  0.70710678,  0.5       ]])"
      ]
     },
     "execution_count": 26,
     "metadata": {},
     "output_type": "execute_result"
    }
   ],
   "source": [
    "R1"
   ]
  },
  {
   "cell_type": "code",
   "execution_count": 27,
   "id": "7e19d394",
   "metadata": {},
   "outputs": [
    {
     "data": {
      "text/plain": [
       "array([ 0.00053198, -0.00088804,  0.00160037])"
      ]
     },
     "execution_count": 27,
     "metadata": {},
     "output_type": "execute_result"
    }
   ],
   "source": [
    "t1"
   ]
  },
  {
   "cell_type": "code",
   "execution_count": 28,
   "id": "8c5808a0",
   "metadata": {},
   "outputs": [
    {
     "data": {
      "text/plain": [
       "array([[ 0.46789077, -0.48104872, -0.74139757],\n",
       "       [-0.71978115, -0.69419048, -0.00382996],\n",
       "       [-0.51282874,  0.535436  , -0.67105512]])"
      ]
     },
     "execution_count": 28,
     "metadata": {},
     "output_type": "execute_result"
    }
   ],
   "source": [
    "R3"
   ]
  },
  {
   "cell_type": "code",
   "execution_count": 29,
   "id": "a2d4368e",
   "metadata": {},
   "outputs": [
    {
     "data": {
      "text/plain": [
       "array([ 0.0041348 , -0.00135428,  0.0090061 ])"
      ]
     },
     "execution_count": 29,
     "metadata": {},
     "output_type": "execute_result"
    }
   ],
   "source": [
    "t3"
   ]
  },
  {
   "cell_type": "markdown",
   "id": "509c9a17",
   "metadata": {},
   "source": [
    "### Part 5"
   ]
  },
  {
   "cell_type": "code",
   "execution_count": 30,
   "id": "08529520",
   "metadata": {},
   "outputs": [
    {
     "name": "stdout",
     "output_type": "stream",
     "text": [
      "Jupyter environment detected. Enabling Open3D WebVisualizer.\n",
      "[Open3D INFO] WebRTC GUI backend enabled.\n",
      "[Open3D INFO] WebRTCWindowSystem: HTTP handshake server disabled.\n"
     ]
    }
   ],
   "source": [
    "import open3d as o3d"
   ]
  },
  {
   "cell_type": "code",
   "execution_count": 31,
   "id": "619d2aee",
   "metadata": {},
   "outputs": [],
   "source": [
    "# read input images as color images\n",
    "rgb1_color = cv2.imread(\"problem1/rgb1.png\")\n",
    "rgb1_color = cv2.cvtColor(rgb1_color, cv2.COLOR_BGR2RGB)\n",
    "\n",
    "rgb2_color = cv2.imread(\"problem1/rgb2.png\")\n",
    "rgb2_color = cv2.cvtColor(rgb2_color, cv2.COLOR_BGR2RGB)\n",
    "\n",
    "rgb3_color = cv2.imread(\"problem1/rgb3.png\")\n",
    "rgb3_color = cv2.cvtColor(rgb3_color, cv2.COLOR_BGR2RGB)"
   ]
  },
  {
   "cell_type": "code",
   "execution_count": 32,
   "id": "5d79eea0",
   "metadata": {},
   "outputs": [],
   "source": [
    "# function to convert all points in image to 3D\n",
    "# similar to the above function \n",
    "def all_points_to_3d(depth_map):\n",
    "    pts_3d = []\n",
    "    \n",
    "    for x in range(depth_map.shape[0]):\n",
    "        for y in range(depth_map.shape[1]):\n",
    "            d = depth_map[x,y]\n",
    "            \n",
    "            #if d == 0:\n",
    "                #continue\n",
    "            \n",
    "            # convert all points to homogeneous\n",
    "            homogeneous = np.array([x, y, 1])\n",
    "            \n",
    "            # normalize\n",
    "            normalized = K_inv.dot(homogeneous)\n",
    "            \n",
    "            # convert to world coordinates\n",
    "            world = d * normalized\n",
    "            \n",
    "            # scaling\n",
    "            point_3d = world / 5000\n",
    "            pts_3d.append(point_3d)\n",
    "        \n",
    "    return np.array(pts_3d)"
   ]
  },
  {
   "cell_type": "code",
   "execution_count": 33,
   "id": "9e5fa25f",
   "metadata": {},
   "outputs": [],
   "source": [
    "# get all 3d points\n",
    "all_rgb1 = all_points_to_3d(depth1)\n",
    "all_rgb2 = all_points_to_3d(depth2)\n",
    "all_rgb3 = all_points_to_3d(depth3)"
   ]
  },
  {
   "cell_type": "code",
   "execution_count": 34,
   "id": "8340f4f4",
   "metadata": {},
   "outputs": [],
   "source": [
    "# initialize color matrix\n",
    "colors1 = rgb1_color.reshape((-1,3))\n",
    "colors2 = rgb2_color.reshape((-1,3))\n",
    "colors3 = rgb3_color.reshape((-1,3))"
   ]
  },
  {
   "cell_type": "code",
   "execution_count": 35,
   "id": "751f2d46",
   "metadata": {},
   "outputs": [],
   "source": [
    "# combine the points with RGB color matrix\n",
    "pts1_colored = np.hstack((all_rgb1, colors1))\n",
    "pts2_colored = np.hstack((all_rgb2, colors2))\n",
    "pts3_colored = np.hstack((all_rgb3, colors3))"
   ]
  },
  {
   "cell_type": "code",
   "execution_count": 36,
   "id": "66951695",
   "metadata": {},
   "outputs": [],
   "source": [
    "# transform points in images 1 and 3 to the (R, t) calculated above\n",
    "pts1_transformed = (R1.dot(pts1_colored[:, :3].T) + t1.reshape((3, 1))).T\n",
    "pts3_transformed = (R3.dot(pts3_colored[:, :3].T) + t3.reshape((3, 1))).T"
   ]
  },
  {
   "cell_type": "code",
   "execution_count": 37,
   "id": "bd498052",
   "metadata": {},
   "outputs": [],
   "source": [
    "# add color matrix to points in images 1 and 3\n",
    "pts1_transformed_with_color = np.hstack((pts1_transformed, np.zeros((pts1_transformed.shape[0], 3))))\n",
    "pts3_transformed_with_color = np.hstack((pts3_transformed, np.zeros((pts3_transformed.shape[0], 3))))"
   ]
  },
  {
   "cell_type": "code",
   "execution_count": 38,
   "id": "d32c817e",
   "metadata": {},
   "outputs": [],
   "source": [
    "# combine all points from images 1, 2, and 3\n",
    "all_pts = np.vstack((pts1_transformed_with_color, pts2_colored, pts3_transformed_with_color))"
   ]
  },
  {
   "cell_type": "code",
   "execution_count": 39,
   "id": "303f527f",
   "metadata": {},
   "outputs": [],
   "source": [
    "# get all points and colors\n",
    "all_colors = all_pts[:, 3:]\n",
    "all_pts = all_pts[:, :3]"
   ]
  },
  {
   "cell_type": "code",
   "execution_count": 40,
   "id": "4ce28699",
   "metadata": {},
   "outputs": [
    {
     "data": {
      "text/plain": [
       "True"
      ]
     },
     "execution_count": 40,
     "metadata": {},
     "output_type": "execute_result"
    }
   ],
   "source": [
    "# generate point cloud\n",
    "pcd = o3d.geometry.PointCloud()\n",
    "pcd.points = o3d.utility.Vector3dVector(all_pts)\n",
    "pcd.colors = o3d.utility.Vector3dVector(all_colors / 255)\n",
    "o3d.io.write_point_cloud(\"merged_pcd.ply\", pcd)"
   ]
  },
  {
   "cell_type": "code",
   "execution_count": 41,
   "id": "733185e4",
   "metadata": {},
   "outputs": [],
   "source": [
    "test_ply = o3d.io.read_point_cloud(\"merged_pcd.ply\")\n",
    "o3d.visualization.draw_geometries([test_ply])"
   ]
  },
  {
   "cell_type": "code",
   "execution_count": null,
   "id": "65913956",
   "metadata": {},
   "outputs": [],
   "source": []
  }
 ],
 "metadata": {
  "kernelspec": {
   "display_name": "Python 3 (ipykernel)",
   "language": "python",
   "name": "python3"
  },
  "language_info": {
   "codemirror_mode": {
    "name": "ipython",
    "version": 3
   },
   "file_extension": ".py",
   "mimetype": "text/x-python",
   "name": "python",
   "nbconvert_exporter": "python",
   "pygments_lexer": "ipython3",
   "version": "3.9.13"
  }
 },
 "nbformat": 4,
 "nbformat_minor": 5
}
